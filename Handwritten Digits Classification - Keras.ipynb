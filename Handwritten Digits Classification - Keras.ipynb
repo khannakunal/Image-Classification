{
 "cells": [
  {
   "cell_type": "code",
   "execution_count": 104,
   "metadata": {},
   "outputs": [],
   "source": [
    "from keras.models import Sequential\n",
    "from keras.layers import MaxPooling2D, Conv2D, BatchNormalization, Flatten\n",
    "import numpy as np\n",
    "import tensorflow as tf\n",
    "import pandas as pd"
   ]
  },
  {
   "cell_type": "code",
   "execution_count": 118,
   "metadata": {},
   "outputs": [
    {
     "name": "stdout",
     "output_type": "stream",
     "text": [
      "33600\n",
      "8400\n"
     ]
    }
   ],
   "source": [
    "data = pd.read_csv('.\\\\data\\\\digit-recognizer\\\\train.csv')\n",
    "split_ratio = 0.8\n",
    "total_size = len(data)\n",
    "train_size = int(split_ratio * total_size)\n",
    "train_data = data[:train_size]\n",
    "test_data = data[train_size:]\n",
    "print(len(train_data))\n",
    "print(len(test_data))"
   ]
  },
  {
   "cell_type": "code",
   "execution_count": 119,
   "metadata": {},
   "outputs": [
    {
     "data": {
      "text/html": [
       "<div>\n",
       "<style scoped>\n",
       "    .dataframe tbody tr th:only-of-type {\n",
       "        vertical-align: middle;\n",
       "    }\n",
       "\n",
       "    .dataframe tbody tr th {\n",
       "        vertical-align: top;\n",
       "    }\n",
       "\n",
       "    .dataframe thead th {\n",
       "        text-align: right;\n",
       "    }\n",
       "</style>\n",
       "<table border=\"1\" class=\"dataframe\">\n",
       "  <thead>\n",
       "    <tr style=\"text-align: right;\">\n",
       "      <th></th>\n",
       "      <th>label</th>\n",
       "      <th>pixel0</th>\n",
       "      <th>pixel1</th>\n",
       "      <th>pixel2</th>\n",
       "      <th>pixel3</th>\n",
       "      <th>pixel4</th>\n",
       "      <th>pixel5</th>\n",
       "      <th>pixel6</th>\n",
       "      <th>pixel7</th>\n",
       "      <th>pixel8</th>\n",
       "      <th>...</th>\n",
       "      <th>pixel774</th>\n",
       "      <th>pixel775</th>\n",
       "      <th>pixel776</th>\n",
       "      <th>pixel777</th>\n",
       "      <th>pixel778</th>\n",
       "      <th>pixel779</th>\n",
       "      <th>pixel780</th>\n",
       "      <th>pixel781</th>\n",
       "      <th>pixel782</th>\n",
       "      <th>pixel783</th>\n",
       "    </tr>\n",
       "  </thead>\n",
       "  <tbody>\n",
       "    <tr>\n",
       "      <th>0</th>\n",
       "      <td>1</td>\n",
       "      <td>0</td>\n",
       "      <td>0</td>\n",
       "      <td>0</td>\n",
       "      <td>0</td>\n",
       "      <td>0</td>\n",
       "      <td>0</td>\n",
       "      <td>0</td>\n",
       "      <td>0</td>\n",
       "      <td>0</td>\n",
       "      <td>...</td>\n",
       "      <td>0</td>\n",
       "      <td>0</td>\n",
       "      <td>0</td>\n",
       "      <td>0</td>\n",
       "      <td>0</td>\n",
       "      <td>0</td>\n",
       "      <td>0</td>\n",
       "      <td>0</td>\n",
       "      <td>0</td>\n",
       "      <td>0</td>\n",
       "    </tr>\n",
       "    <tr>\n",
       "      <th>1</th>\n",
       "      <td>0</td>\n",
       "      <td>0</td>\n",
       "      <td>0</td>\n",
       "      <td>0</td>\n",
       "      <td>0</td>\n",
       "      <td>0</td>\n",
       "      <td>0</td>\n",
       "      <td>0</td>\n",
       "      <td>0</td>\n",
       "      <td>0</td>\n",
       "      <td>...</td>\n",
       "      <td>0</td>\n",
       "      <td>0</td>\n",
       "      <td>0</td>\n",
       "      <td>0</td>\n",
       "      <td>0</td>\n",
       "      <td>0</td>\n",
       "      <td>0</td>\n",
       "      <td>0</td>\n",
       "      <td>0</td>\n",
       "      <td>0</td>\n",
       "    </tr>\n",
       "    <tr>\n",
       "      <th>2</th>\n",
       "      <td>1</td>\n",
       "      <td>0</td>\n",
       "      <td>0</td>\n",
       "      <td>0</td>\n",
       "      <td>0</td>\n",
       "      <td>0</td>\n",
       "      <td>0</td>\n",
       "      <td>0</td>\n",
       "      <td>0</td>\n",
       "      <td>0</td>\n",
       "      <td>...</td>\n",
       "      <td>0</td>\n",
       "      <td>0</td>\n",
       "      <td>0</td>\n",
       "      <td>0</td>\n",
       "      <td>0</td>\n",
       "      <td>0</td>\n",
       "      <td>0</td>\n",
       "      <td>0</td>\n",
       "      <td>0</td>\n",
       "      <td>0</td>\n",
       "    </tr>\n",
       "    <tr>\n",
       "      <th>3</th>\n",
       "      <td>4</td>\n",
       "      <td>0</td>\n",
       "      <td>0</td>\n",
       "      <td>0</td>\n",
       "      <td>0</td>\n",
       "      <td>0</td>\n",
       "      <td>0</td>\n",
       "      <td>0</td>\n",
       "      <td>0</td>\n",
       "      <td>0</td>\n",
       "      <td>...</td>\n",
       "      <td>0</td>\n",
       "      <td>0</td>\n",
       "      <td>0</td>\n",
       "      <td>0</td>\n",
       "      <td>0</td>\n",
       "      <td>0</td>\n",
       "      <td>0</td>\n",
       "      <td>0</td>\n",
       "      <td>0</td>\n",
       "      <td>0</td>\n",
       "    </tr>\n",
       "    <tr>\n",
       "      <th>4</th>\n",
       "      <td>0</td>\n",
       "      <td>0</td>\n",
       "      <td>0</td>\n",
       "      <td>0</td>\n",
       "      <td>0</td>\n",
       "      <td>0</td>\n",
       "      <td>0</td>\n",
       "      <td>0</td>\n",
       "      <td>0</td>\n",
       "      <td>0</td>\n",
       "      <td>...</td>\n",
       "      <td>0</td>\n",
       "      <td>0</td>\n",
       "      <td>0</td>\n",
       "      <td>0</td>\n",
       "      <td>0</td>\n",
       "      <td>0</td>\n",
       "      <td>0</td>\n",
       "      <td>0</td>\n",
       "      <td>0</td>\n",
       "      <td>0</td>\n",
       "    </tr>\n",
       "  </tbody>\n",
       "</table>\n",
       "<p>5 rows × 785 columns</p>\n",
       "</div>"
      ],
      "text/plain": [
       "   label  pixel0  pixel1  pixel2  pixel3  pixel4  pixel5  pixel6  pixel7  \\\n",
       "0      1       0       0       0       0       0       0       0       0   \n",
       "1      0       0       0       0       0       0       0       0       0   \n",
       "2      1       0       0       0       0       0       0       0       0   \n",
       "3      4       0       0       0       0       0       0       0       0   \n",
       "4      0       0       0       0       0       0       0       0       0   \n",
       "\n",
       "   pixel8    ...     pixel774  pixel775  pixel776  pixel777  pixel778  \\\n",
       "0       0    ...            0         0         0         0         0   \n",
       "1       0    ...            0         0         0         0         0   \n",
       "2       0    ...            0         0         0         0         0   \n",
       "3       0    ...            0         0         0         0         0   \n",
       "4       0    ...            0         0         0         0         0   \n",
       "\n",
       "   pixel779  pixel780  pixel781  pixel782  pixel783  \n",
       "0         0         0         0         0         0  \n",
       "1         0         0         0         0         0  \n",
       "2         0         0         0         0         0  \n",
       "3         0         0         0         0         0  \n",
       "4         0         0         0         0         0  \n",
       "\n",
       "[5 rows x 785 columns]"
      ]
     },
     "execution_count": 119,
     "metadata": {},
     "output_type": "execute_result"
    }
   ],
   "source": [
    "train_data.head()"
   ]
  },
  {
   "cell_type": "code",
   "execution_count": 120,
   "metadata": {},
   "outputs": [],
   "source": [
    "y_train = train_data['label']\n",
    "x_train = train_data.drop(['label'], axis = 1)"
   ]
  },
  {
   "cell_type": "code",
   "execution_count": 121,
   "metadata": {},
   "outputs": [
    {
     "data": {
      "text/html": [
       "<div>\n",
       "<style scoped>\n",
       "    .dataframe tbody tr th:only-of-type {\n",
       "        vertical-align: middle;\n",
       "    }\n",
       "\n",
       "    .dataframe tbody tr th {\n",
       "        vertical-align: top;\n",
       "    }\n",
       "\n",
       "    .dataframe thead th {\n",
       "        text-align: right;\n",
       "    }\n",
       "</style>\n",
       "<table border=\"1\" class=\"dataframe\">\n",
       "  <thead>\n",
       "    <tr style=\"text-align: right;\">\n",
       "      <th></th>\n",
       "      <th>pixel0</th>\n",
       "      <th>pixel1</th>\n",
       "      <th>pixel2</th>\n",
       "      <th>pixel3</th>\n",
       "      <th>pixel4</th>\n",
       "      <th>pixel5</th>\n",
       "      <th>pixel6</th>\n",
       "      <th>pixel7</th>\n",
       "      <th>pixel8</th>\n",
       "      <th>pixel9</th>\n",
       "      <th>...</th>\n",
       "      <th>pixel774</th>\n",
       "      <th>pixel775</th>\n",
       "      <th>pixel776</th>\n",
       "      <th>pixel777</th>\n",
       "      <th>pixel778</th>\n",
       "      <th>pixel779</th>\n",
       "      <th>pixel780</th>\n",
       "      <th>pixel781</th>\n",
       "      <th>pixel782</th>\n",
       "      <th>pixel783</th>\n",
       "    </tr>\n",
       "  </thead>\n",
       "  <tbody>\n",
       "    <tr>\n",
       "      <th>0</th>\n",
       "      <td>0</td>\n",
       "      <td>0</td>\n",
       "      <td>0</td>\n",
       "      <td>0</td>\n",
       "      <td>0</td>\n",
       "      <td>0</td>\n",
       "      <td>0</td>\n",
       "      <td>0</td>\n",
       "      <td>0</td>\n",
       "      <td>0</td>\n",
       "      <td>...</td>\n",
       "      <td>0</td>\n",
       "      <td>0</td>\n",
       "      <td>0</td>\n",
       "      <td>0</td>\n",
       "      <td>0</td>\n",
       "      <td>0</td>\n",
       "      <td>0</td>\n",
       "      <td>0</td>\n",
       "      <td>0</td>\n",
       "      <td>0</td>\n",
       "    </tr>\n",
       "    <tr>\n",
       "      <th>1</th>\n",
       "      <td>0</td>\n",
       "      <td>0</td>\n",
       "      <td>0</td>\n",
       "      <td>0</td>\n",
       "      <td>0</td>\n",
       "      <td>0</td>\n",
       "      <td>0</td>\n",
       "      <td>0</td>\n",
       "      <td>0</td>\n",
       "      <td>0</td>\n",
       "      <td>...</td>\n",
       "      <td>0</td>\n",
       "      <td>0</td>\n",
       "      <td>0</td>\n",
       "      <td>0</td>\n",
       "      <td>0</td>\n",
       "      <td>0</td>\n",
       "      <td>0</td>\n",
       "      <td>0</td>\n",
       "      <td>0</td>\n",
       "      <td>0</td>\n",
       "    </tr>\n",
       "    <tr>\n",
       "      <th>2</th>\n",
       "      <td>0</td>\n",
       "      <td>0</td>\n",
       "      <td>0</td>\n",
       "      <td>0</td>\n",
       "      <td>0</td>\n",
       "      <td>0</td>\n",
       "      <td>0</td>\n",
       "      <td>0</td>\n",
       "      <td>0</td>\n",
       "      <td>0</td>\n",
       "      <td>...</td>\n",
       "      <td>0</td>\n",
       "      <td>0</td>\n",
       "      <td>0</td>\n",
       "      <td>0</td>\n",
       "      <td>0</td>\n",
       "      <td>0</td>\n",
       "      <td>0</td>\n",
       "      <td>0</td>\n",
       "      <td>0</td>\n",
       "      <td>0</td>\n",
       "    </tr>\n",
       "    <tr>\n",
       "      <th>3</th>\n",
       "      <td>0</td>\n",
       "      <td>0</td>\n",
       "      <td>0</td>\n",
       "      <td>0</td>\n",
       "      <td>0</td>\n",
       "      <td>0</td>\n",
       "      <td>0</td>\n",
       "      <td>0</td>\n",
       "      <td>0</td>\n",
       "      <td>0</td>\n",
       "      <td>...</td>\n",
       "      <td>0</td>\n",
       "      <td>0</td>\n",
       "      <td>0</td>\n",
       "      <td>0</td>\n",
       "      <td>0</td>\n",
       "      <td>0</td>\n",
       "      <td>0</td>\n",
       "      <td>0</td>\n",
       "      <td>0</td>\n",
       "      <td>0</td>\n",
       "    </tr>\n",
       "    <tr>\n",
       "      <th>4</th>\n",
       "      <td>0</td>\n",
       "      <td>0</td>\n",
       "      <td>0</td>\n",
       "      <td>0</td>\n",
       "      <td>0</td>\n",
       "      <td>0</td>\n",
       "      <td>0</td>\n",
       "      <td>0</td>\n",
       "      <td>0</td>\n",
       "      <td>0</td>\n",
       "      <td>...</td>\n",
       "      <td>0</td>\n",
       "      <td>0</td>\n",
       "      <td>0</td>\n",
       "      <td>0</td>\n",
       "      <td>0</td>\n",
       "      <td>0</td>\n",
       "      <td>0</td>\n",
       "      <td>0</td>\n",
       "      <td>0</td>\n",
       "      <td>0</td>\n",
       "    </tr>\n",
       "  </tbody>\n",
       "</table>\n",
       "<p>5 rows × 784 columns</p>\n",
       "</div>"
      ],
      "text/plain": [
       "   pixel0  pixel1  pixel2  pixel3  pixel4  pixel5  pixel6  pixel7  pixel8  \\\n",
       "0       0       0       0       0       0       0       0       0       0   \n",
       "1       0       0       0       0       0       0       0       0       0   \n",
       "2       0       0       0       0       0       0       0       0       0   \n",
       "3       0       0       0       0       0       0       0       0       0   \n",
       "4       0       0       0       0       0       0       0       0       0   \n",
       "\n",
       "   pixel9    ...     pixel774  pixel775  pixel776  pixel777  pixel778  \\\n",
       "0       0    ...            0         0         0         0         0   \n",
       "1       0    ...            0         0         0         0         0   \n",
       "2       0    ...            0         0         0         0         0   \n",
       "3       0    ...            0         0         0         0         0   \n",
       "4       0    ...            0         0         0         0         0   \n",
       "\n",
       "   pixel779  pixel780  pixel781  pixel782  pixel783  \n",
       "0         0         0         0         0         0  \n",
       "1         0         0         0         0         0  \n",
       "2         0         0         0         0         0  \n",
       "3         0         0         0         0         0  \n",
       "4         0         0         0         0         0  \n",
       "\n",
       "[5 rows x 784 columns]"
      ]
     },
     "execution_count": 121,
     "metadata": {},
     "output_type": "execute_result"
    }
   ],
   "source": [
    "x_train.head()"
   ]
  },
  {
   "cell_type": "code",
   "execution_count": 122,
   "metadata": {},
   "outputs": [
    {
     "data": {
      "text/plain": [
       "0    1\n",
       "1    0\n",
       "2    1\n",
       "3    4\n",
       "4    0\n",
       "Name: label, dtype: int64"
      ]
     },
     "execution_count": 122,
     "metadata": {},
     "output_type": "execute_result"
    }
   ],
   "source": [
    "y_train.head()"
   ]
  },
  {
   "cell_type": "code",
   "execution_count": 123,
   "metadata": {},
   "outputs": [
    {
     "name": "stdout",
     "output_type": "stream",
     "text": [
      "33600\n"
     ]
    }
   ],
   "source": [
    "print(len(x_train))"
   ]
  },
  {
   "cell_type": "code",
   "execution_count": 124,
   "metadata": {},
   "outputs": [],
   "source": [
    "batch_size = 100\n",
    "epochs = 3"
   ]
  },
  {
   "cell_type": "code",
   "execution_count": 125,
   "metadata": {},
   "outputs": [],
   "source": [
    "def get_batched_data():\n",
    "    current_pos = 0\n",
    "     \n",
    "    total_size = len(x_train)\n",
    "    steps_per_epoch = total_size / batch_size\n",
    "    \n",
    "    def one_hot_encode_y(y_value):\n",
    "        ohe_vector = np.zeros((10, ))\n",
    "        ohe_vector[y_value] = 1\n",
    "        return ohe_vector\n",
    "    \n",
    "    for i in np.arange(steps_per_epoch):\n",
    "        x_batched = x_train[current_pos: current_pos + batch_size].values\n",
    "        x_batched_reshaped = np.array([x.reshape((28, 28, 1)) for x  in x_batched])#list(map(lambda x: x.reshape((28, 28)), x_batched)))\n",
    "        y_batched = y_train[current_pos: current_pos + batch_size].values.tolist()\n",
    "        y_batched_encoded = np.array([one_hot_encode_y(y) for y in y_batched])#list(map(lambda x: one_hot_encode_y(x), y_batched)))\n",
    "        current_pos += batch_size\n",
    "        yield x_batched_reshaped, y_batched_encoded"
   ]
  },
  {
   "cell_type": "code",
   "execution_count": 127,
   "metadata": {},
   "outputs": [],
   "source": [
    "def build_model():\n",
    "    model = Sequential()    \n",
    "    model.add(Conv2D(32, 3, input_shape = (28, 28, 1), strides = (1, 1), padding = 'valid'))\n",
    "    model.add(MaxPooling2D(pool_size = (2, 2), strides = None, padding = 'valid'))\n",
    "    model.add(Conv2D(64, 3, strides = (1, 1), padding = 'valid'))\n",
    "    model.add(MaxPooling2D(pool_size = (2, 2), strides = None, padding = 'valid'))\n",
    "    model.add(BatchNormalization())\n",
    "    model.add(Conv2D(128, 3, strides = (1, 1), padding = 'valid'))\n",
    "    model.add(MaxPooling2D(pool_size = (2, 2), strides = None, padding = 'valid'))\n",
    "    model.add(Flatten())\n",
    "    model.add(Dense(10, activation = 'softmax'))\n",
    "    return model "
   ]
  },
  {
   "cell_type": "code",
   "execution_count": 128,
   "metadata": {},
   "outputs": [
    {
     "name": "stdout",
     "output_type": "stream",
     "text": [
      "Epoch: 0, step_count: 0, loss: 2.962376594543457, accuracy: 0.20000000298023224\n",
      "Epoch: 0, step_count: 10, loss: 0.6577691435813904, accuracy: 0.8100000023841858\n",
      "Epoch: 0, step_count: 20, loss: 0.45939865708351135, accuracy: 0.8899999856948853\n",
      "Epoch: 0, step_count: 30, loss: 0.40545177459716797, accuracy: 0.8600000143051147\n",
      "Epoch: 0, step_count: 40, loss: 0.2637174129486084, accuracy: 0.8999999761581421\n",
      "Epoch: 0, step_count: 50, loss: 0.2307525873184204, accuracy: 0.9200000166893005\n",
      "Epoch: 0, step_count: 60, loss: 0.12338673323392868, accuracy: 0.9800000190734863\n",
      "Epoch: 0, step_count: 70, loss: 0.17092952132225037, accuracy: 0.9399999976158142\n",
      "Epoch: 0, step_count: 80, loss: 0.1651855707168579, accuracy: 0.9399999976158142\n",
      "Epoch: 0, step_count: 90, loss: 0.26649561524391174, accuracy: 0.9100000262260437\n",
      "Epoch: 0, step_count: 100, loss: 0.09686088562011719, accuracy: 0.9800000190734863\n",
      "Epoch: 0, step_count: 110, loss: 0.1924799382686615, accuracy: 0.9399999976158142\n",
      "Epoch: 0, step_count: 120, loss: 0.10885036736726761, accuracy: 0.9700000286102295\n",
      "Epoch: 0, step_count: 130, loss: 0.3147341012954712, accuracy: 0.8799999952316284\n",
      "Epoch: 0, step_count: 140, loss: 0.1341257393360138, accuracy: 0.9599999785423279\n",
      "Epoch: 0, step_count: 150, loss: 0.1698274165391922, accuracy: 0.9599999785423279\n",
      "Epoch: 0, step_count: 160, loss: 0.14225706458091736, accuracy: 0.9599999785423279\n",
      "Epoch: 0, step_count: 170, loss: 0.12361322343349457, accuracy: 0.9800000190734863\n",
      "Epoch: 0, step_count: 180, loss: 0.16978637874126434, accuracy: 0.949999988079071\n",
      "Epoch: 0, step_count: 190, loss: 0.160736545920372, accuracy: 0.9700000286102295\n",
      "Epoch: 0, step_count: 200, loss: 0.13447973132133484, accuracy: 0.9399999976158142\n",
      "Epoch: 0, step_count: 210, loss: 0.11805696785449982, accuracy: 0.9700000286102295\n",
      "Epoch: 0, step_count: 220, loss: 0.1428728550672531, accuracy: 0.9399999976158142\n",
      "Epoch: 0, step_count: 230, loss: 0.3119957447052002, accuracy: 0.949999988079071\n",
      "Epoch: 0, step_count: 240, loss: 0.09457921981811523, accuracy: 0.9599999785423279\n",
      "Epoch: 0, step_count: 250, loss: 0.2856951951980591, accuracy: 0.9599999785423279\n",
      "Epoch: 0, step_count: 260, loss: 0.04279625788331032, accuracy: 0.9900000095367432\n",
      "Epoch: 0, step_count: 270, loss: 0.09693022072315216, accuracy: 0.9900000095367432\n",
      "Epoch: 0, step_count: 280, loss: 0.1603555679321289, accuracy: 0.9399999976158142\n",
      "Epoch: 0, step_count: 290, loss: 0.07656070590019226, accuracy: 0.9800000190734863\n",
      "Epoch: 0, step_count: 300, loss: 0.09004061669111252, accuracy: 0.9599999785423279\n",
      "Epoch: 0, step_count: 310, loss: 0.03861008584499359, accuracy: 0.9900000095367432\n",
      "Epoch: 0, step_count: 320, loss: 0.10611715167760849, accuracy: 0.949999988079071\n",
      "Epoch: 0, step_count: 330, loss: 0.03759875148534775, accuracy: 0.9900000095367432\n",
      "Epoch: 1, step_count: 0, loss: 0.0766628310084343, accuracy: 0.9700000286102295\n",
      "Epoch: 1, step_count: 10, loss: 0.047946106642484665, accuracy: 0.9900000095367432\n",
      "Epoch: 1, step_count: 20, loss: 0.03439657390117645, accuracy: 1.0\n",
      "Epoch: 1, step_count: 30, loss: 0.09746801108121872, accuracy: 0.9700000286102295\n",
      "Epoch: 1, step_count: 40, loss: 0.08248710632324219, accuracy: 0.9700000286102295\n",
      "Epoch: 1, step_count: 50, loss: 0.06912503391504288, accuracy: 0.9700000286102295\n",
      "Epoch: 1, step_count: 60, loss: 0.04219672083854675, accuracy: 0.9900000095367432\n",
      "Epoch: 1, step_count: 70, loss: 0.031136246398091316, accuracy: 0.9900000095367432\n",
      "Epoch: 1, step_count: 80, loss: 0.02847474068403244, accuracy: 1.0\n",
      "Epoch: 1, step_count: 90, loss: 0.08044255524873734, accuracy: 0.9599999785423279\n",
      "Epoch: 1, step_count: 100, loss: 0.01613895408809185, accuracy: 1.0\n",
      "Epoch: 1, step_count: 110, loss: 0.07311100512742996, accuracy: 0.9700000286102295\n",
      "Epoch: 1, step_count: 120, loss: 0.022550266236066818, accuracy: 1.0\n",
      "Epoch: 1, step_count: 130, loss: 0.20598049461841583, accuracy: 0.9300000071525574\n",
      "Epoch: 1, step_count: 140, loss: 0.045917607843875885, accuracy: 0.9800000190734863\n",
      "Epoch: 1, step_count: 150, loss: 0.09949108958244324, accuracy: 0.9900000095367432\n",
      "Epoch: 1, step_count: 160, loss: 0.04049684479832649, accuracy: 0.9800000190734863\n",
      "Epoch: 1, step_count: 170, loss: 0.05550248548388481, accuracy: 0.9900000095367432\n",
      "Epoch: 1, step_count: 180, loss: 0.12141751497983932, accuracy: 0.9599999785423279\n",
      "Epoch: 1, step_count: 190, loss: 0.05534350872039795, accuracy: 0.9700000286102295\n",
      "Epoch: 1, step_count: 200, loss: 0.04909810051321983, accuracy: 0.9900000095367432\n",
      "Epoch: 1, step_count: 210, loss: 0.049368664622306824, accuracy: 0.9900000095367432\n",
      "Epoch: 1, step_count: 220, loss: 0.058539316058158875, accuracy: 0.9800000190734863\n",
      "Epoch: 1, step_count: 230, loss: 0.18223720788955688, accuracy: 0.9700000286102295\n",
      "Epoch: 1, step_count: 240, loss: 0.0705772191286087, accuracy: 0.9700000286102295\n",
      "Epoch: 1, step_count: 250, loss: 0.2140146642923355, accuracy: 0.9599999785423279\n",
      "Epoch: 1, step_count: 260, loss: 0.021931832656264305, accuracy: 1.0\n",
      "Epoch: 1, step_count: 270, loss: 0.09476736932992935, accuracy: 0.9900000095367432\n",
      "Epoch: 1, step_count: 280, loss: 0.08324441313743591, accuracy: 0.9700000286102295\n",
      "Epoch: 1, step_count: 290, loss: 0.033303890377283096, accuracy: 1.0\n",
      "Epoch: 1, step_count: 300, loss: 0.024495694786310196, accuracy: 1.0\n",
      "Epoch: 1, step_count: 310, loss: 0.024279294535517693, accuracy: 1.0\n",
      "Epoch: 1, step_count: 320, loss: 0.04858207702636719, accuracy: 0.9800000190734863\n",
      "Epoch: 1, step_count: 330, loss: 0.010064730420708656, accuracy: 1.0\n",
      "Epoch: 2, step_count: 0, loss: 0.026461046189069748, accuracy: 0.9900000095367432\n",
      "Epoch: 2, step_count: 10, loss: 0.026200661435723305, accuracy: 0.9800000190734863\n",
      "Epoch: 2, step_count: 20, loss: 0.01598474010825157, accuracy: 1.0\n",
      "Epoch: 2, step_count: 30, loss: 0.06426265835762024, accuracy: 0.9800000190734863\n",
      "Epoch: 2, step_count: 40, loss: 0.06303294003009796, accuracy: 0.9700000286102295\n",
      "Epoch: 2, step_count: 50, loss: 0.03234492242336273, accuracy: 0.9900000095367432\n",
      "Epoch: 2, step_count: 60, loss: 0.028245937079191208, accuracy: 0.9800000190734863\n",
      "Epoch: 2, step_count: 70, loss: 0.027956726029515266, accuracy: 0.9900000095367432\n",
      "Epoch: 2, step_count: 80, loss: 0.012073797173798084, accuracy: 1.0\n",
      "Epoch: 2, step_count: 90, loss: 0.061444420367479324, accuracy: 0.9800000190734863\n",
      "Epoch: 2, step_count: 100, loss: 0.010754715651273727, accuracy: 1.0\n",
      "Epoch: 2, step_count: 110, loss: 0.04071267694234848, accuracy: 0.9800000190734863\n",
      "Epoch: 2, step_count: 120, loss: 0.019987214356660843, accuracy: 1.0\n",
      "Epoch: 2, step_count: 130, loss: 0.13947956264019012, accuracy: 0.9599999785423279\n",
      "Epoch: 2, step_count: 140, loss: 0.04678533226251602, accuracy: 0.9800000190734863\n",
      "Epoch: 2, step_count: 150, loss: 0.11298017203807831, accuracy: 0.9800000190734863\n",
      "Epoch: 2, step_count: 160, loss: 0.022657208144664764, accuracy: 0.9900000095367432\n",
      "Epoch: 2, step_count: 170, loss: 0.04205051437020302, accuracy: 0.9900000095367432\n",
      "Epoch: 2, step_count: 180, loss: 0.049572259187698364, accuracy: 0.9900000095367432\n",
      "Epoch: 2, step_count: 190, loss: 0.017528263852000237, accuracy: 0.9900000095367432\n",
      "Epoch: 2, step_count: 200, loss: 0.04536985978484154, accuracy: 0.9800000190734863\n",
      "Epoch: 2, step_count: 210, loss: 0.02653738297522068, accuracy: 0.9900000095367432\n",
      "Epoch: 2, step_count: 220, loss: 0.04759771749377251, accuracy: 0.9900000095367432\n",
      "Epoch: 2, step_count: 230, loss: 0.12820687890052795, accuracy: 0.9700000286102295\n",
      "Epoch: 2, step_count: 240, loss: 0.04458348825573921, accuracy: 0.9800000190734863\n",
      "Epoch: 2, step_count: 250, loss: 0.13764041662216187, accuracy: 0.9700000286102295\n",
      "Epoch: 2, step_count: 260, loss: 0.032606158405542374, accuracy: 0.9900000095367432\n",
      "Epoch: 2, step_count: 270, loss: 0.054935522377491, accuracy: 0.9900000095367432\n",
      "Epoch: 2, step_count: 280, loss: 0.03667042404413223, accuracy: 0.9900000095367432\n",
      "Epoch: 2, step_count: 290, loss: 0.02890043333172798, accuracy: 0.9900000095367432\n",
      "Epoch: 2, step_count: 300, loss: 0.025460433214902878, accuracy: 0.9900000095367432\n",
      "Epoch: 2, step_count: 310, loss: 0.0325176827609539, accuracy: 0.9900000095367432\n",
      "Epoch: 2, step_count: 320, loss: 0.012097382918000221, accuracy: 1.0\n",
      "Epoch: 2, step_count: 330, loss: 0.007971345447003841, accuracy: 1.0\n"
     ]
    }
   ],
   "source": [
    "model = build_model()\n",
    "model.compile(optimizer = 'Adam',\n",
    "              loss = 'categorical_crossentropy',\n",
    "              metrics = ['accuracy'])\n",
    "\n",
    "for epoch in np.arange(epochs):\n",
    "    step_count = 0\n",
    "    for x_batched, y_batched in get_batched_data():\n",
    "        loss, accuracy = model.train_on_batch(x_batched, y_batched)\n",
    "\n",
    "        if step_count % 10 == 0:\n",
    "            print('Epoch: {}, step_count: {}, loss: {}, accuracy: {}'.format(epoch, step_count, loss, accuracy))\n",
    "\n",
    "        step_count += 1"
   ]
  },
  {
   "cell_type": "code",
   "execution_count": 129,
   "metadata": {},
   "outputs": [],
   "source": [
    "y_test = test_data['label']\n",
    "x_test = test_data.drop(['label'], axis = 1)"
   ]
  },
  {
   "cell_type": "code",
   "execution_count": 141,
   "metadata": {},
   "outputs": [],
   "source": [
    "def get_test_data():\n",
    "    \n",
    "    x_batched = x_test.values\n",
    "    x_batched_reshaped = np.array([x.reshape((28, 28, 1)) for x  in x_batched])\n",
    "    y_batched = y_test.values\n",
    "    return x_batched_reshaped, y_batched"
   ]
  },
  {
   "cell_type": "code",
   "execution_count": 142,
   "metadata": {},
   "outputs": [],
   "source": [
    "test_x_mod, test_y_mod = get_test_data()\n",
    "test_y_predictions_probabilities = model.predict(test_x_mod)"
   ]
  },
  {
   "cell_type": "code",
   "execution_count": 143,
   "metadata": {},
   "outputs": [
    {
     "name": "stdout",
     "output_type": "stream",
     "text": [
      "8400\n"
     ]
    }
   ],
   "source": [
    "print(len(test_y_predictions_probabilities))"
   ]
  },
  {
   "cell_type": "code",
   "execution_count": 144,
   "metadata": {},
   "outputs": [
    {
     "name": "stdout",
     "output_type": "stream",
     "text": [
      "[9.9994004e-01 1.0670526e-06 4.7818770e-07 1.0533782e-09 9.7507723e-08\n",
      " 8.5523479e-06 4.9100086e-05 6.1026134e-07 4.1489259e-10 1.1812699e-09]\n"
     ]
    }
   ],
   "source": [
    "print(test_y_predictions_probabilities[0])"
   ]
  },
  {
   "cell_type": "code",
   "execution_count": 146,
   "metadata": {},
   "outputs": [],
   "source": [
    "test_y_predictions = [x.argmax() for x in test_y_predictions_probabilities]"
   ]
  },
  {
   "cell_type": "code",
   "execution_count": 147,
   "metadata": {},
   "outputs": [
    {
     "name": "stdout",
     "output_type": "stream",
     "text": [
      "8400\n"
     ]
    }
   ],
   "source": [
    "print(len(test_y_predictions))"
   ]
  },
  {
   "cell_type": "code",
   "execution_count": 148,
   "metadata": {},
   "outputs": [
    {
     "name": "stdout",
     "output_type": "stream",
     "text": [
      "[0, 7, 7, 2, 2, 6, 5, 7, 8, 5]\n"
     ]
    }
   ],
   "source": [
    "print(test_y_predictions[0:10])"
   ]
  },
  {
   "cell_type": "code",
   "execution_count": 149,
   "metadata": {},
   "outputs": [
    {
     "name": "stdout",
     "output_type": "stream",
     "text": [
      "[0 7 7 2 2 6 5 7 8 5]\n"
     ]
    }
   ],
   "source": [
    "print(test_y_mod[0:10])"
   ]
  },
  {
   "cell_type": "code",
   "execution_count": 151,
   "metadata": {},
   "outputs": [
    {
     "name": "stdout",
     "output_type": "stream",
     "text": [
      "Accuracy: 0.9825\n"
     ]
    }
   ],
   "source": [
    "correct_predictions = 0\n",
    "total_count = len(test_y_mod)\n",
    "\n",
    "for i in np.arange(total_count):\n",
    "    if test_y_predictions[i] == test_y_mod[i]:\n",
    "        correct_predictions = correct_predictions + 1\n",
    "\n",
    "accuracy = correct_predictions / total_count\n",
    "print('Accuracy: {}'.format(accuracy))"
   ]
  },
  {
   "cell_type": "code",
   "execution_count": null,
   "metadata": {},
   "outputs": [],
   "source": []
  }
 ],
 "metadata": {
  "kernelspec": {
   "display_name": "Python 3",
   "language": "python",
   "name": "python3"
  },
  "language_info": {
   "codemirror_mode": {
    "name": "ipython",
    "version": 3
   },
   "file_extension": ".py",
   "mimetype": "text/x-python",
   "name": "python",
   "nbconvert_exporter": "python",
   "pygments_lexer": "ipython3",
   "version": "3.6.5"
  }
 },
 "nbformat": 4,
 "nbformat_minor": 2
}
